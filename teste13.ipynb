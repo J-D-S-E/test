{
    "cells": [
        {
            "cell_type": "code",
            "execution_count": 1,
            "metadata": {},
            "outputs": [
                {
                    "output_type": "stream",
                    "name": "stdout",
                    "text": "Hello, world!\n"
                }
            ],
            "source": [
                "print(\"Hello, world!\")"
            ]
        }
    ],
    "metadata": {
        "kernelspec": {
            "name": "python3",
            "display_name": "Python 3",
            "language": "python"
        },
        "language_info": {
            "codemirror_mode": {
                "name": "ipython",
                "version": 3
            },
            "file_extension": ".py",
            "mimetype": "text/x-python",
            "name": "python",
            "nbconvert_exporter": "python",
            "pygments_lexer": "ipython3",
            "version": "3.8.8"
        },
        "vscode": {
            "interpreter": {
                "hash": "c7774087e59124c0c04974f9495805516b757141046631192c6f1375041c892f"
            }
        }
    },
    "nbformat": 4,
    "nbformat_minor": 5
}