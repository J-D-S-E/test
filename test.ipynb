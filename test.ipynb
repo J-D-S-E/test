{
 "cells": [
  {
   "cell_type": "code",
   "execution_count": null,
   "metadata": {},
   "outputs": [],
   "source": [
    "import json\n",
    "\n",
    "# Exemplo de string JSON\n",
    "json_data = '''\n",
    "{\n",
    "    \"nome\": \"João\",\n",
    "    \"idade\": 30,\n",
    "    \"cidade\": \"São Paulo\",\n",
    "    \"interesses\": [\"programação\", \"música\", \"esportes\"]\n",
    "}\n",
    "'''  \n",
    "\n",
    "# Carregar a string JSON em um dicionário Python\n",
    "dados = json.loads(json_data)\n",
    "\n",
    "# Acessar e exibir alguns dados\n",
    "print(\"Nome:\", dados[\"nome\"])\n",
    "print(\"Idade:\", dados[\"idade\"])\n",
    "print(\"Cidade:\", dados[\"cidade\"])\n",
    "print(\"Interesses:\", \", \".join(dados[\"interesses\"]))"
   ]
  }
 ],
 "metadata": {
  "kernelspec": {
   "display_name": "Python 3",
   "language": "python",
   "name": "python3"
  },
  "language_info": {
   "codemirror_mode": {
    "name": "ipython",
    "version": 3
   },
   "file_extension": ".py",
   "mimetype": "text/x-python",
   "name": "python",
   "nbconvert_exporter": "python",
   "pygments_lexer": "ipython3",
   "version": "3.8.5"
  }
 },
 "nbformat": 4,
 "nbformat_minor": 4
}
