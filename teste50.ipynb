{
    "cells": [
        {
            "cell_type": "code",
            "execution_count": 1,
            "metadata": {},
            "outputs": [],
            "source": [
                "import datetime\n",
                "\n",
                "def calcula_data(data_inicial, dias):\n",
                "  \"\"\"\n",
                "  Calcula uma data futura com base em uma data inicial e um número de dias.\n",
                "  \n",
                "  Args:\n",
                "    data_inicial: A data inicial no formato 'AAAA-MM-DD'.\n",
                "    dias: O número de dias a serem adicionados à data inicial.\n",
                "  \n",
                "  Returns:\n",
                "    A data futura no formato 'AAAA-MM-DD'.\n",
                "  \"\"\"\n",
                "  data_inicial_obj = datetime.datetime.strptime(data_inicial, '%Y-%m-%d').date()\n",
                "  data_futura = data_inicial_obj + datetime.timedelta(days=dias)\n",
                "  return data_futura.strftime('%Y-%m-%d')\n",
                "\n",
                "# Exemplo de uso\n",
                "data_inicial = '2023-10-26'\n",
                "dias_adicionar = 10\n",
                "\n",
                "data_futura = calcula_data(data_inicial, dias_adicionar)\n",
                "print(f'Data Futura: {data_futura}')"
            ]
        },
        {
            "cell_type": "markdown",
            "metadata": {},
            "source": [
                "# Calculadora de Datas em Python\n",
                "\n",
                "Este código Python implementa uma calculadora de datas simples. Ele permite que você insira uma data inicial e um número de dias, e calcula a data futura correspondente.\n",
                "\n",
                "## Função `calcula_data`\n",
                "\n",
                "A função `calcula_data` recebe dois argumentos:\n",
                "\n",
                "* `data_inicial`: Uma string que representa a data inicial no formato 'AAAA-MM-DD'.\n",
                "* `dias`: Um inteiro que representa o número de dias a serem adicionados à data inicial.\n",
                "\n",
                "A função funciona da seguinte maneira:\n",
                "\n",
                "1. **Converte a string de data para um objeto `datetime.date`:**  A função `datetime.datetime.strptime` é usada para converter a string de data em um objeto `datetime.date`. Isso permite que o código trabalhe com datas de forma mais eficiente.\n",
                "2. **Adiciona os dias à data inicial:**  A função `datetime.timedelta` é usada para criar um objeto que representa a duração de `dias` dias. Esse objeto é adicionado à data inicial para obter a data futura.\n",
                "3. **Formata a data futura como uma string:**  A função `strftime` é usada para formatar a data futura no formato 'AAAA-MM-DD'.\n",
                "4. **Retorna a data futura como uma string:** A função retorna a data futura formatada como uma string.\n",
                "\n",
                "## Exemplo de Uso\n",
                "\n",
                "O código fornece um exemplo simples de como usar a função `calcula_data`. Ele define uma data inicial e um número de dias a serem adicionados. Em seguida, ele chama a função `calcula_data` e imprime a data futura resultante."
            ]
        }
    ]
}