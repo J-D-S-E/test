{
    "cells": [
        {
            "cell_type": "code",
            "execution_count": 1,
            "metadata": {},
            "outputs": [
                {
                    "output_type": "stream",
                    "name": "stdout",
                    "text": "Hello, world!\n"
                }
            ],
            "source": [
                "print(\"Hello, world!\")"
            ]
        }
    ],
    "metadata": {
        "kernelspec": {
            "display_name": "Python 3",
            "language": "python",
            "name": "python3"
        },
        "language_info": {
            "codemirror_mode": {
                "name": "ipython",
                "version": 3
            },
            "file_extension": ".py",
            "mimetype": "text/x-python",
            "name": "python",
            "nbconvert_exporter": "python",
            "pygments_lexer": "ipython3",
            "version": "3.9.7"
        },
        "orig_nbformat": 4,
        "vscode": {
            "interpreter": {
                "hash": "45438c7e1e23309980982680f0450178d22767116420387b48c72363841f8645"
            }
        }
    },
    "nbformat": 4,
    "nbformat_minor": 5
}