{
    "cells": [
        {
            "cell_type": "markdown",
            "metadata": {},
            "source": [
                "# Código usando LLM GPT-4O em JSON .ipynb para rodar no Google Colab"
            ]
        },
        {
            "cell_type": "code",
            "execution_count": null,
            "metadata": {},
            "outputs": [],
            "source": [
                "from langchain import OpenAI, LLMChain\n",
                "from langchain.prompts import PromptTemplate\n",
                "\n",
                "# Configure o modelo GPT-4O\n",
                "model_name = 'gpt-4-0-6k'\n",
                "openai_api_key = \"YOUR_OPENAI_API_KEY\"  # Substitua por sua chave de API do OpenAI\n",
                "llm = OpenAI(model_name=model_name, temperature=0.7, openai_api_key=openai_api_key)\n",
                "\n",
                "# Crie um template de prompt\n",
                "prompt_template = PromptTemplate(\n",
                "    input_variables=['user_input'],\n",
                "    template=\"Responda à seguinte pergunta: {user_input}\"\n",
                ")\n",
                "\n",
                "# Crie uma cadeia LLM\n",
                "llm_chain = LLMChain(llm=llm, prompt=prompt_template)\n",
                "\n",
                "# Obtenha entrada do usuário\n",
                "user_input = input('Digite sua pergunta: ')\n",
                "\n",
                "# Gere uma resposta usando o modelo GPT-4O\n",
                "response = llm_chain.run(user_input)\n",
                "\n",
                "# Imprima a resposta\n",
                "print(response)"
            ]
        },
        {
            "cell_type": "markdown",
            "metadata": {},
            "source": [
                "## Explicação do código:"
            ]
        },
        {
            "cell_type": "markdown",
            "metadata": {},
            "source": [
                "* **Importar bibliotecas:** Importa as bibliotecas `langchain` para trabalhar com modelos de linguagem e prompts.\n",
                "* **Configurar o modelo GPT-4O:** Configura o modelo GPT-4O (ou outro modelo OpenAI de sua escolha) com sua chave de API do OpenAI.\n",
                "* **Criar um template de prompt:** Cria um template de prompt que define como a entrada do usuário será formatada para o modelo de linguagem.\n",
                "* **Criar uma cadeia LLM:** Cria uma cadeia LLM que combina o modelo de linguagem e o template de prompt.\n",
                "* **Obter entrada do usuário:** Pede ao usuário para digitar sua pergunta.\n",
                "* **Gerar uma resposta:** Usa a cadeia LLM para gerar uma resposta com base na entrada do usuário.\n",
                "* **Imprimir a resposta:** Imprime a resposta gerada pelo modelo de linguagem."
            ]
        }
    ]
}