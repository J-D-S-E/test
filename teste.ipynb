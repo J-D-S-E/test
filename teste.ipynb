{
 "cells": [
  {
   "cell_type": "markdown",
   "metadata": {},
   "source": [
    "# Calculadora de Porcentagem\n",
    "Este notebook permite calcular diferentes tipos de operações de porcentagem. Você pode:\n",
    "- Calcular uma porcentagem de um valor.\n",
    "- Determinar o percentual de aumento ou redução entre dois valores.\n",
    "- Calcular quanto representa uma porcentagem de um total.\n",
    "\n",
    "Insira os valores nas células de código e execute para ver o resultado!"
   ]
  },
  {
   "cell_type": "markdown",
   "metadata": {},
   "source": [
    "## 1. Calcular uma porcentagem de um valor\n",
    "Por exemplo, para calcular **20% de 500**, insira os valores e execute o código."
   ]
  },
  {
   "cell_type": "code",
   "execution_count": null,
   "metadata": {},
   "outputs": [],
   "source": [
    "# Insira o valor e a porcentagem que deseja calcular\n",
    "valor = 500  # Exemplo: valor original\n",
    "porcentagem = 20  # Exemplo: porcentagem a ser calculada\n",
    "\n",
    "# Calcula o resultado\n",
    "resultado = (valor * porcentagem) / 100\n",
    "print(f\"{porcentagem}% de {valor} é {resultado}\")"
   ]
  },
  {
   "cell_type": "markdown",
   "metadata": {},
   "source": [
    "## 2. Determinar o percentual de aumento ou redução entre dois valores\n",
    "Por exemplo, para calcular o percentual de aumento de **150** para **200** ou a redução de **200** para **150**, insira os valores e execute o código."
   ]
  },
  {
   "cell_type": "code",
   "execution_count": null,
   "metadata": {},
   "outputs": [],
   "source": [
    "# Insira o valor original e o valor novo\n",
    "valor_original = 150  # Exemplo: valor inicial\n",
    "valor_novo = 200  # Exemplo: valor após aumento ou redução\n",
    "\n",
    "# Calcula a variação percentual\n",
    "variacao_percentual = ((valor_novo - valor_original) / valor_original) * 100\n",
    "print(f\"A variação percentual de {valor_original} para {valor_novo} é {variacao_percentual:.2f}%\")"
   ]
  },
  {
   "cell_type": "markdown",
   "metadata": {},
   "source": [
    "## 3. Calcular quanto representa uma porcentagem de um total\n",
    "Por exemplo, para calcular quantos **10% representam de um total de 300**, insira os valores e execute o código."
   ]
  },
  {
   "cell_type": "code",
   "execution_count": null,
   "metadata": {},
   "outputs": [],
   "source": [
    "# Insira o total e o valor da porcentagem\n",
    "total = 300  # Exemplo: total\n",
    "percentual = 10  # Exemplo: porcentagem\n",
    "\n",
    "# Calcula quanto a porcentagem representa\n",
    "representacao = (percentual / 100) * total\n",
    "print(f\"{percentual}% de {total} representa {representacao}\")"
   ]
  }
 ],
 "metadata": {
  "kernelspec": {
   "display_name": "Python 3",
   "language": "python",
   "name": "python3"
  },
  "language_info": {
   "name": "python",
   "version": "3.8"
  }
 },
 "nbformat": 4,
 "nbformat_minor": 4
}
