{
 "cells": [
  {
   "cell_type": "markdown",
   "metadata": {},
   "source": [
    "# Calculadora de Soma\n",
    "Este notebook permite somar dois números."
   ]
  },
  {
   "cell_type": "code",
   "execution_count": null,
   "metadata": {},
   "outputs": [],
   "source": [
    "# Insira os valores dos números que deseja somar\n",
    "numero1 = 5  # Exemplo: primeiro número\n",
    "numero2 = 7  # Exemplo: segundo número\n",
    "\n",
    "# Calcula a soma dos dois números\n",
    "soma = numero1 + numero2\n",
    "print(f\"A soma de {numero1} e {numero2} é {soma}\")"
   ]
  }
 ],
 "metadata": {
  "kernelspec": {
   "display_name": "Python 3",
   "language": "python",
   "name": "python3"
  },
  "language_info": {
   "name": "python",
   "version": "3.8"
  }
 },
 "nbformat": 4,
 "nbformat_minor": 4
}
