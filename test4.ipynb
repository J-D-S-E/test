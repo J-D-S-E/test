{
    "cells": [
     {
      "cell_type": "code",
      "execution_count": 1,
      "metadata": {},
      "outputs": [],
      "source": [
       "from datetime import datetime\n",
       "\n",
       "def calcular_dias(data_inicial, data_final):\n",
       "    formato = \"%Y-%m-%d\"\n",
       "    d1 = datetime.strptime(data_inicial, formato)\n",
       "    d2 = datetime.strptime(data_final, formato)\n",
       "    return (d2 - d1).days\n",
       "\n",
       "data_inicial = input(\"Digite a data inicial (AAAA-MM-DD): \")\n",
       "data_final = input(\"Digite a data final (AAAA-MM-DD): \")\n",
       "\n",
       "dias = calcular_dias(data_inicial, data_final)\n",
       "print(f\"A diferença em dias entre {data_final} e {data_inicial} é de {dias} dias.\")"
      ]
     },
     {
      "cell_type": "markdown",
      "metadata": {},
      "source": [
       "# Calculadora de Dias\n",
       "\n",
       "Este notebook calcula a diferença em dias entre duas datas.\n",
       "Digite as datas no formato `AAAA-MM-DD`."
      ]
     }
    ],
    "metadata": {
     "kernelspec": {
      "display_name": "Python 3",
      "language": "python",
      "name": "python3"
     },
     "language_info": {
      "codemirror_mode": {
       "name": "ipython",
       "version": 3
      },
      "file_extension": ".py",
      "mimetype": "text/x-python",
      "name": "python",
      "nbconvert_exporter": "python",
      "pygments_lexer": "ipython3",
      "version": "3.8.5"
     }
    },
    "nbformat": 4,
    "nbformat_minor": 4
   }
   