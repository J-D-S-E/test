{
    "cells": [
        {
            "cell_type": "markdown",
            "metadata": {},
            "source": [
                "# Usando GPT-4 para gerar código"
            ]
        },
        {
            "cell_type": "code",
            "execution_count": null,
            "metadata": {
                "colab": {
                    "base_uri": "https://localhost:8080/",
                    "height": 342
                },
                "scrolled": true,
                "jupyter": {
                    "outputs_hidden": false
                }
            },
            "outputs": [],
            "source": [
                "from langchain.llms import OpenAI\n",
                "from langchain.chains import  LLMChain\n",
                "from langchain.prompts import PromptTemplate\n",
                "import os\n",
                "os.environ[\"OPENAI_API_KEY\"] = \"SEU_CHAVE_API_AQUI\"\n",
                "\n",
                "# Define o prompt\n",
                "prompt_template = PromptTemplate(\n",
                "    input_variables=['linguagem', 'tarefa'],\n",
                "    template=\"Escreva um código em {linguagem} para realizar a seguinte tarefa: {tarefa}\"\n",
                ")\n",
                "\n",
                "# Cria a cadeia LLM\n",
                "llm = OpenAI(temperature=0.7)\n",
                "chain = LLMChain(llm=llm, prompt=prompt_template)\n",
                "\n",
                "# Pede ao LLM para gerar código\n",
                "linguagem = 'Python'\n",
                "tarefa = 'Criar uma função que recebe uma lista de números e retorna a soma dos números pares.'\n",
                "resposta = chain.run(linguagem=linguagem, tarefa=tarefa)\n",
                "\n",
                "# Imprime o código gerado\n",
                "print(resposta)"
            ]
        },
        {
            "cell_type": "markdown",
            "metadata": {},
            "source": [
                "## Teste com outros exemplos"
            ]
        },
        {
            "cell_type": "code",
            "execution_count": null,
            "metadata": {
                "colab": {
                    "base_uri": "https://localhost:8080/",
                    "height": 103
                },
                "scrolled": true,
                "jupyter": {
                    "outputs_hidden": false
                }
            },
            "outputs": [],
            "source": [
                "# Exemplo 1: Javascript\n",
                "linguagem = 'Javascript'\n",
                "tarefa = 'Criar uma função que recebe uma string e retorna a string invertida.'\n",
                "resposta = chain.run(linguagem=linguagem, tarefa=tarefa)\n",
                "print(resposta)\n",
                "\n",
                "# Exemplo 2: Python\n",
                "linguagem = 'Python'\n",
                "tarefa = 'Criar um script que gera números aleatórios entre 1 e 100.'\n",
                "resposta = chain.run(linguagem=linguagem, tarefa=tarefa)\n",
                "print(resposta)"
            ]
        }
    ],
    "metadata": {
        "kernelspec": {
            "display_name": "Python 3",
            "language": "python",
            "name": "python3"
        },
        "language_info": {
            "codemirror_mode": {
                "name": "ipython",
                "version": 3
            },
            "file_extension": ".py",
            "mimetype": "text/x-python",
            "name": "python",
            "nbconvert_exporter": "python",
            "pygments_lexer": "ipython3",
            "version": "3.9.12"
        },
        "colab": {
            "collapsed_sections": [],
            "provenance": []
        },
        "vscode": {
            "interpreter": {
                "hash": "643d304002a886693b6409043292120b76e8077f305a64b292a94e06"
            }
        }
    },
    "nbformat": 4,
    "nbformat_minor": 5
}